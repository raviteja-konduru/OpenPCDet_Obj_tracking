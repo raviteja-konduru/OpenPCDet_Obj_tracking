{
 "cells": [
  {
   "cell_type": "code",
   "execution_count": 4,
   "metadata": {},
   "outputs": [
    {
     "name": "stdout",
     "output_type": "stream",
     "text": [
      "Notebook initialized with x3d backend.\n"
     ]
    }
   ],
   "source": [
    "import argparse\n",
    "import glob\n",
    "from pathlib import Path\n",
    "\n",
    "import mayavi.mlab as mlab\n",
    "import numpy as np\n",
    "# import torch\n",
    "\n",
    "# from pcdet.config import cfg, cfg_from_yaml_file\n",
    "# from pcdet.datasets import DatasetTemplate\n",
    "# from pcdet.models import build_network, load_data_to_gpu\n",
    "# from pcdet.utils import common_utils\n",
    "from visual_utils import visualize_utils as V\n",
    "from xvfbwrapper import Xvfb\n",
    "import pickle as pkl\n",
    "\n",
    "mlab.init_notebook('x3d', 800, 450)"
   ]
  },
  {
   "cell_type": "code",
   "execution_count": 5,
   "metadata": {},
   "outputs": [],
   "source": [
    "with open('../saved_pred/curr_pickle.pkl', 'rb') as f:\n",
    "    data_ = pkl.load(f)\n",
    "\n",
    "data_dict = data_[\"data_dict\"]\n",
    "pred_dicts = data_[\"pred_dicts\"]\n",
    "\n",
    "vdisplay = Xvfb(width=1920, height=1080)\n",
    "vdisplay.start()  \n",
    "V.draw_scenes(\n",
    "#     points=data_dict['points'][:, 1:], ref_boxes=pred_dicts[0]['pred_boxes'],\n",
    "    points=data_dict, ref_boxes=pred_dicts[0]['pred_boxes'],\n",
    "    ref_scores=pred_dicts[0]['pred_scores'], ref_labels=pred_dicts[0]['pred_labels']\n",
    ")\n",
    "\n",
    "mlab.show(stop=True)\n",
    "mlab.savefig(\"./test_eg.png\")\n",
    "\n",
    "vdisplay.stop()"
   ]
  },
  {
   "cell_type": "code",
   "execution_count": null,
   "metadata": {},
   "outputs": [],
   "source": []
  }
 ],
 "metadata": {
  "kernelspec": {
   "display_name": "Python 3",
   "language": "python",
   "name": "python3"
  },
  "language_info": {
   "codemirror_mode": {
    "name": "ipython",
    "version": 3
   },
   "file_extension": ".py",
   "mimetype": "text/x-python",
   "name": "python",
   "nbconvert_exporter": "python",
   "pygments_lexer": "ipython3",
   "version": "3.6.10"
  }
 },
 "nbformat": 4,
 "nbformat_minor": 4
}
